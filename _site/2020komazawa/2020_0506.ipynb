{
  "nbformat": 4,
  "nbformat_minor": 0,
  "metadata": {
    "colab": {
      "name": "2020-0506.ipynb",
      "provenance": [],
      "private_outputs": true,
      "authorship_tag": "ABX9TyMWelgHbjhec8WZGhZljEWL",
      "include_colab_link": true
    },
    "kernelspec": {
      "name": "python3",
      "display_name": "Python 3"
    },
    "accelerator": "GPU"
  },
  "cells": [
    {
      "cell_type": "markdown",
      "metadata": {
        "id": "view-in-github",
        "colab_type": "text"
      },
      "source": [
        "<a href=\"https://colab.research.google.com/github/ShinAsakawa/ShinAsakawa.github.io/blob/master/2020komazawa/2020_0506.ipynb\" target=\"_parent\"><img src=\"https://colab.research.google.com/assets/colab-badge.svg\" alt=\"Open In Colab\"/></a>"
      ]
    },
    {
      "cell_type": "markdown",
      "metadata": {
        "id": "Trk4Y3Sh4hYn",
        "colab_type": "text"
      },
      "source": [
        "- date: 2020-0506\n",
        "- author: 浅川伸一\n",
        "- source: https://github.com/SkalskiP/ILearnDeepLearning.py/blob/master/01_mysteries_of_neural_networks/01_mathematics_of_nn/Binary%20classification%20visualizations.ipynb"
      ]
    },
    {
      "cell_type": "markdown",
      "metadata": {
        "id": "JWhOf1TI4cbQ",
        "colab_type": "text"
      },
      "source": [
        "***Author: Piotr Skalski***\n",
        "\n",
        "This notebook accompanies the article: <a href=\"https://towardsdatascience.com/https-medium-com-piotr-skalski92-deep-dive-into-deep-networks-math-17660bc376ba\">Deep Dive into Math Behind Deep Networks</a>. This notebook shows how easy it is to visualize the movement of the classification boundary in a neural network."
      ]
    },
    {
      "cell_type": "code",
      "metadata": {
        "id": "yMxnJ8nwtiq7",
        "colab_type": "code",
        "colab": {}
      },
      "source": [
        "import numpy as np\n",
        "import pandas as pd\n",
        "import seaborn as sns\n",
        "import matplotlib.pyplot as plt\n",
        "from matplotlib import cm\n",
        "from sklearn.datasets import make_circles\n",
        "from sklearn.model_selection import train_test_split\n",
        "import keras\n",
        "from keras.models import Sequential\n",
        "from keras.layers import Dense\n",
        "from keras.utils import np_utils\n",
        "%matplotlib inline"
      ],
      "execution_count": 0,
      "outputs": []
    },
    {
      "cell_type": "code",
      "metadata": {
        "id": "9NVE-8ODtoiw",
        "colab_type": "code",
        "colab": {}
      },
      "source": [
        "# number of samples in the data set\n",
        "N_SAMPLES = 1000\n",
        "# ratio between training and test sets\n",
        "TEST_SIZE = 0.1\n",
        "# number of iterations of the model\n",
        "N_EPOCHS = 50\n",
        "# boundary of the graph\n",
        "GRID_X_START = -1.5\n",
        "GRID_X_END = 1.5\n",
        "GRID_Y_START = -1.5\n",
        "GRID_Y_END = 1.5\n",
        "# output directory (the folder must be created on the drive)\n",
        "OUTPUT_DIR = \"outputs\""
      ],
      "execution_count": 0,
      "outputs": []
    },
    {
      "cell_type": "code",
      "metadata": {
        "id": "4pDZxoyltssp",
        "colab_type": "code",
        "colab": {}
      },
      "source": [
        "!mkdir outputs"
      ],
      "execution_count": 0,
      "outputs": []
    },
    {
      "cell_type": "code",
      "metadata": {
        "id": "dP1cjz7wtvWI",
        "colab_type": "code",
        "colab": {}
      },
      "source": [
        "X, y = make_circles(n_samples=N_SAMPLES, factor=.3, noise=.10)\n",
        "X_train, X_test, y_train, y_test = train_test_split(X, y, test_size=TEST_SIZE, random_state=42)"
      ],
      "execution_count": 0,
      "outputs": []
    },
    {
      "cell_type": "code",
      "metadata": {
        "id": "0q3wTDMftyoR",
        "colab_type": "code",
        "colab": {}
      },
      "source": [
        "plt.figure(figsize=(10,10))\n",
        "sns.set_style(\"whitegrid\")\n",
        "plt.scatter(X_train[:, 0], X_train[:, 1], c=y_train.ravel(), s=50, cmap=plt.cm.Spectral, edgecolors='black');\n",
        "plt.savefig(\"dataset.png\")"
      ],
      "execution_count": 0,
      "outputs": []
    },
    {
      "cell_type": "code",
      "metadata": {
        "id": "P8B-pTH_t7BT",
        "colab_type": "code",
        "colab": {}
      },
      "source": [
        "grid = np.mgrid[GRID_X_START:GRID_X_END:100j,GRID_X_START:GRID_Y_END:100j]\n",
        "grid_2d = grid.reshape(2, -1).T\n",
        "X, Y = grid\n",
        "acc_history = []\n",
        "loss_history = []"
      ],
      "execution_count": 0,
      "outputs": []
    },
    {
      "cell_type": "code",
      "metadata": {
        "id": "iarUsOU7t-zE",
        "colab_type": "code",
        "colab": {}
      },
      "source": [
        "# precede the number with zeros, creating a thong of a certain length\n",
        "def makeIndexOfLength(index, length):\n",
        "    indexStr = str(index)\n",
        "    return ('0' * (length - len(indexStr)) + indexStr)"
      ],
      "execution_count": 0,
      "outputs": []
    },
    {
      "cell_type": "code",
      "metadata": {
        "id": "Y0J9XAtYuB34",
        "colab_type": "code",
        "colab": {}
      },
      "source": [
        "# the auxiliary function forming graphs of classification boundaries and change of accuracy\n",
        "def save_model_prediction_graph(epoch, logs):\n",
        "    prediction_probs = model.predict_proba(grid_2d, batch_size=32, verbose=0)\n",
        "    plt.figure(figsize=(10,10))\n",
        "    sns.set_style(\"whitegrid\")\n",
        "    plt.title('Binary classification with KERAS - epoch: ' + makeIndexOfLength(epoch, 3), fontsize=20)\n",
        "    plt.xlabel('X', fontsize=15)\n",
        "    plt.ylabel('Y', fontsize=15)\n",
        "    plt.contourf(X, Y, prediction_probs.reshape(100, 100), alpha = 0.7, cmap=cm.Spectral)\n",
        "    plt.scatter(X_train[:, 0], X_train[:, 1], c=y_train.ravel(), s=50, cmap=plt.cm.Spectral, edgecolors='black')\n",
        "    plt.savefig(\"./\" + OUTPUT_DIR + \"/keras\" + makeIndexOfLength(epoch, 3) + \".png\")\n",
        "    plt.close()\n",
        "    \n",
        "    acc_history.append(logs['accuracy'])\n",
        "    loss_history.append(logs['loss'])\n",
        "    plt.figure(figsize=(12,8))\n",
        "    sns.set_style(\"whitegrid\")\n",
        "    plt.plot(acc_history)\n",
        "    plt.plot(loss_history)\n",
        "    plt.title('Model accuracy and loss - epoch: ' + makeIndexOfLength(epoch, 3), fontsize=20)\n",
        "    plt.ylabel('accuracy')\n",
        "    plt.xlabel('epoch')\n",
        "    plt.xlim([0,N_EPOCHS])\n",
        "    plt.legend(['accuracy', 'loss'], loc='upper left')\n",
        "    plt.savefig(\"./\" + OUTPUT_DIR + \"/loss_acc_\" + makeIndexOfLength(epoch, 3) + \".png\")\n",
        "    plt.close()"
      ],
      "execution_count": 0,
      "outputs": []
    },
    {
      "cell_type": "code",
      "metadata": {
        "id": "fx8bS6A5uIju",
        "colab_type": "code",
        "colab": {}
      },
      "source": [
        "# Creating a KERAS model\n",
        "model = Sequential()\n",
        "model.add(Dense(4, input_dim=2,activation='relu'))\n",
        "model.add(Dense(6, activation='relu'))\n",
        "model.add(Dense(6, activation='relu'))\n",
        "model.add(Dense(4, activation='relu'))\n",
        "model.add(Dense(1, activation='sigmoid'))"
      ],
      "execution_count": 0,
      "outputs": []
    },
    {
      "cell_type": "code",
      "metadata": {
        "id": "uc6A-0RVuNrW",
        "colab_type": "code",
        "colab": {}
      },
      "source": [
        "# Adding callback functions that they will run in every epoch\n",
        "testmodelcb = keras.callbacks.LambdaCallback(on_epoch_end=save_model_prediction_graph)"
      ],
      "execution_count": 0,
      "outputs": []
    },
    {
      "cell_type": "code",
      "metadata": {
        "id": "t8o7Gf9PugIS",
        "colab_type": "code",
        "colab": {}
      },
      "source": [
        "model.compile(loss='binary_crossentropy', optimizer='adamax', metrics=['accuracy'])"
      ],
      "execution_count": 0,
      "outputs": []
    },
    {
      "cell_type": "code",
      "metadata": {
        "id": "jczNhgUsuQz9",
        "colab_type": "code",
        "colab": {}
      },
      "source": [
        "history = model.fit(X_train, y_train, epochs=N_EPOCHS, verbose=0, callbacks=[testmodelcb])\n",
        "#history = model.fit(X_train, y_train, epochs=N_EPOCHS, verbose=0)\n",
        "score = model.evaluate(X_test, y_test, verbose=1)\n",
        "print('Test loss:', score[0])\n",
        "print('Test accuracy:', score[1])"
      ],
      "execution_count": 0,
      "outputs": []
    },
    {
      "cell_type": "code",
      "metadata": {
        "id": "dPsRCqmqyloz",
        "colab_type": "code",
        "colab": {}
      },
      "source": [
        "!apt-get install imagemagick"
      ],
      "execution_count": 0,
      "outputs": []
    },
    {
      "cell_type": "code",
      "metadata": {
        "id": "bqR-yIeauUS0",
        "colab_type": "code",
        "colab": {}
      },
      "source": [
        "#!ls output\n",
        "!convert -delay 10 -loop 0 outputs/keras*.png all_outputs.gif\n",
        "!convert -delay 10 -loop 0 outputs/loss_acc*.png learning.gif"
      ],
      "execution_count": 0,
      "outputs": []
    },
    {
      "cell_type": "code",
      "metadata": {
        "id": "Sl3vpnZp1SrC",
        "colab_type": "code",
        "colab": {}
      },
      "source": [
        "from IPython.core.interactiveshell import InteractiveShell\n",
        "InteractiveShell.ast_node_interactivity = \"all\"\n",
        "from IPython import display"
      ],
      "execution_count": 0,
      "outputs": []
    },
    {
      "cell_type": "code",
      "metadata": {
        "id": "qSJ_CC0B13Mo",
        "colab_type": "code",
        "colab": {}
      },
      "source": [
        "with open('all_outputs.gif','rb') as f:\n",
        "    display.Image(data=f.read(), format='png')"
      ],
      "execution_count": 0,
      "outputs": []
    },
    {
      "cell_type": "code",
      "metadata": {
        "colab_type": "code",
        "id": "_01ZHGxq6JIL",
        "colab": {}
      },
      "source": [
        "with open('learning.gif','rb') as f:\n",
        "    display.Image(data=f.read(), format='png')"
      ],
      "execution_count": 0,
      "outputs": []
    },
    {
      "cell_type": "code",
      "metadata": {
        "id": "DNaT5iUk6eK2",
        "colab_type": "code",
        "colab": {}
      },
      "source": [
        ""
      ],
      "execution_count": 0,
      "outputs": []
    }
  ]
}