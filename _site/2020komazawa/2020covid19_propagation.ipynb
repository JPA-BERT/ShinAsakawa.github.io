{
  "nbformat": 4,
  "nbformat_minor": 0,
  "metadata": {
    "colab": {
      "name": "2020covid19_propagation.ipynb",
      "provenance": [],
      "private_outputs": true,
      "authorship_tag": "ABX9TyOZSc28MMSJTjXj4r0tdFuL",
      "include_colab_link": true
    },
    "kernelspec": {
      "name": "python3",
      "display_name": "Python 3"
    }
  },
  "cells": [
    {
      "cell_type": "markdown",
      "metadata": {
        "id": "view-in-github",
        "colab_type": "text"
      },
      "source": [
        "<a href=\"https://colab.research.google.com/github/ShinAsakawa/ShinAsakawa.github.io/blob/master/2020komazawa/2020covid19_propagation.ipynb\" target=\"_parent\"><img src=\"https://colab.research.google.com/assets/colab-badge.svg\" alt=\"Open In Colab\"/></a>"
      ]
    },
    {
      "cell_type": "markdown",
      "metadata": {
        "id": "64DxV-Bm2Qxi",
        "colab_type": "text"
      },
      "source": [
        "- Date: 2020-0412\n",
        "- Author: 浅川伸一\n",
        "\n",
        "---\n",
        "\n",
        "# 感染者の増加を計算する\n",
        "\n",
        "- トップユーチューバー ヒカキン氏と小池百合子東京都知事との対談動画で 5 日後に 2.5 人感染した場合 30 日後 406人と予想される根拠について\n",
        "- 直下セルを実行すると YouTube 動画が閲覧できます。10:30 からのパネルの計算根拠を考えます"
      ]
    },
    {
      "cell_type": "code",
      "metadata": {
        "id": "lOnPFdQG1orv",
        "colab_type": "code",
        "colab": {}
      },
      "source": [
        "from IPython.display import YouTubeVideo, display\n",
        "youtube_id = 'ofCsslfc-So'  # ヒカキン ｖｓ 小池百合子\n",
        "display(YouTubeVideo(youtube_id, width=600, height=400))\n",
        "# 10:30 からのパネル\n",
        "# 5 日後に 2.5 人感染した場合 30 日後 406人になる根拠は何か"
      ],
      "execution_count": 0,
      "outputs": []
    },
    {
      "cell_type": "code",
      "metadata": {
        "id": "V_WvOa4G10W3",
        "colab_type": "code",
        "colab": {}
      },
      "source": [
        "sum = 1  # 最初の日に 1 人感染している\n",
        "period = int(30 / 5)  # 5 日の期間で 30 日後なので 6 期間\n",
        "kappa = 2.5  # 感染率，あるいは感染力\n",
        "#kappa = 1.25  # 半分の感染力にした場合\n",
        "#kappa = 0.625  # 1/4 の感染力にした場合\n",
        "for p in range(period):\n",
        "    sum = sum + kappa ** (p+1) \n",
        "\n",
        "print(sum)"
      ],
      "execution_count": 0,
      "outputs": []
    },
    {
      "cell_type": "markdown",
      "metadata": {
        "id": "ZuXaFy6aZwa5",
        "colab_type": "text"
      },
      "source": [
        "上の python コードを解説します。\n",
        "\n",
        "- 観察を始めた当初の感染者の数を 1 とします。 1 行目\n",
        "- 1 時刻単位を 5 日間と考えれば，30 日後は 30 / 5 = 6 時刻単位経過したことになります。 2 行目\n",
        "- 感染率，または感染力を kappa とします。ギリシャアルファベットの $\\kappa$ カッパ の意味で用いました 3 行目\n",
        "- 4, 5 行目はプログラム実行には関係ありません\n",
        "\n",
        "ある時刻 での感染者数の総計は，1 時刻前の感染者数で決まります。数学では漸化式で表されます。\n",
        "時刻 $t=0$ の時の感染者総計を $S_{t=0}$ と表すことにします。\n",
        "そうすると，次の時刻単位 $t=1$ では，次式のように書くことが可能です:\n",
        "\n",
        "$$\n",
        "s_{t=1} = s_{t=0} + \\kappa \\times s_{t=0} \n",
        "$$\n",
        "\n",
        "同様にして，$s_{t=2}$ では\n",
        "\n",
        "$$\n",
        "s_{t=2} = s_{t=1} + \\kappa \\times s_{t=1}\n",
        "$$\n",
        "\n",
        "となります。一般的な漸化式の表記で言えば以下のように書けます。\n",
        "\n",
        "$$\n",
        "X_{n+1} = f(X_{n})\n",
        "$$\n",
        "\n",
        "\n"
      ]
    },
    {
      "cell_type": "code",
      "metadata": {
        "id": "T5I-wXU-ZqUO",
        "colab_type": "code",
        "colab": {}
      },
      "source": [
        ""
      ],
      "execution_count": 0,
      "outputs": []
    }
  ]
}