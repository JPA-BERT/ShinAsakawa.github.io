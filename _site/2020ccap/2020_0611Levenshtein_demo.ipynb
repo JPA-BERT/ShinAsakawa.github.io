{
  "nbformat": 4,
  "nbformat_minor": 0,
  "metadata": {
    "colab": {
      "name": "2020-0611Levenshtein_demo.ipynb",
      "provenance": [],
      "private_outputs": true,
      "authorship_tag": "ABX9TyPTYtIPEk6wqw/fZkJt6d3L",
      "include_colab_link": true
    },
    "kernelspec": {
      "name": "python3",
      "display_name": "Python 3"
    }
  },
  "cells": [
    {
      "cell_type": "markdown",
      "metadata": {
        "id": "view-in-github",
        "colab_type": "text"
      },
      "source": [
        "<a href=\"https://colab.research.google.com/github/ShinAsakawa/ShinAsakawa.github.io/blob/master/2020ccap/2020_0611Levenshtein_demo.ipynb\" target=\"_parent\"><img src=\"https://colab.research.google.com/assets/colab-badge.svg\" alt=\"Open In Colab\"/></a>"
      ]
    },
    {
      "cell_type": "code",
      "metadata": {
        "id": "Hy4PizRKelhF",
        "colab_type": "code",
        "colab": {}
      },
      "source": [
        "!pip install python-Levenshtein"
      ],
      "execution_count": 0,
      "outputs": []
    },
    {
      "cell_type": "code",
      "metadata": {
        "id": "x_b2TZzSereC",
        "colab_type": "code",
        "colab": {}
      },
      "source": [
        "import Levenshtein\n",
        "uema = 'うえまきよし' \n",
        "daimon = 'だいもんしょうたろう' \n",
        "hashimoto = 'はしもとこうせい' \n",
        "takakura = 'たかくらゆうき' \n",
        "yoshihara = 'よしはらまさひろ' \n",
        "ccaps = [uema, daimon, hashimoto, takakura, yoshihara]\n",
        "\n",
        "for m1 in ccaps:\n",
        "    for m2 in ccaps:\n",
        "        print('{:03f}'.format(Levenshtein.distance(m1,m2)/(max(len(m1),len(m2)) * 1.00)), end=\" \")\n",
        "    print(m1)\n"
      ],
      "execution_count": 0,
      "outputs": []
    },
    {
      "cell_type": "code",
      "metadata": {
        "id": "ncEVeivIfdnU",
        "colab_type": "code",
        "colab": {}
      },
      "source": [
        ""
      ],
      "execution_count": 0,
      "outputs": []
    }
  ]
}