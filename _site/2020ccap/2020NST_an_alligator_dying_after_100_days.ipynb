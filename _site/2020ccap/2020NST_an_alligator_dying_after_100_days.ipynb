{
  "nbformat": 4,
  "nbformat_minor": 0,
  "metadata": {
    "colab": {
      "name": "2020_100alligators_style_transfer.ipynb",
      "provenance": [],
      "private_outputs": true,
      "authorship_tag": "ABX9TyOP0ntERSHoZMFZt8GDDU2q",
      "include_colab_link": true
    },
    "kernelspec": {
      "name": "python3",
      "display_name": "Python 3"
    },
    "accelerator": "GPU"
  },
  "cells": [
    {
      "cell_type": "markdown",
      "metadata": {
        "id": "view-in-github",
        "colab_type": "text"
      },
      "source": [
        "<a href=\"https://colab.research.google.com/github/ShinAsakawa/ShinAsakawa.github.io/blob/master/2020ccap/2020NST_an_alligator_dying_after_100_days.ipynb\" target=\"_parent\"><img src=\"https://colab.research.google.com/assets/colab-badge.svg\" alt=\"Open In Colab\"/></a>"
      ]
    },
    {
      "cell_type": "markdown",
      "metadata": {
        "id": "bMvwiwwCB-TO",
        "colab_type": "text"
      },
      "source": [
        "---\n",
        "- title: style transfer demo\n",
        "- source: https://qiita.com/shun_fukuchi/items/5fed6bf9d1fcf6e7e1d4?utm_source=Qiita%E3%83%8B%E3%83%A5%E3%83%BC%E3%82%B9&utm_campaign=d9da7b2b38-Qiita_newsletter_406_04_01_2020&utm_medium=email&utm_term=0_e44feaa081-d9da7b2b38-33392037\n",
        "- date: 2020-0401\n",
        "---"
      ]
    },
    {
      "cell_type": "code",
      "metadata": {
        "id": "p2ak-zwt3kxq",
        "colab_type": "code",
        "colab": {}
      },
      "source": [
        "!wget https://thenypost.files.wordpress.com/2019/07/florida-2nd-alligaotr-attack.jpg  # 凶暴なワニの画像\n",
        "!wget https://fki.ismcdn.jp/mwimgs/5/c/600m/img_5c91efc5fb6408a098e8d622cb49176698275.jpg  # 100日後に死ぬワニの画像"
      ],
      "execution_count": 0,
      "outputs": []
    },
    {
      "cell_type": "code",
      "metadata": {
        "id": "8SlN1iL92WNZ",
        "colab_type": "code",
        "colab": {}
      },
      "source": [
        "%tensorflow_version 1.x\n",
        "import tensorflow as tf\n",
        "#from tensorflow import keras\n",
        "from tensorflow.compat.v1 import keras as K\n",
        "#from tensorflow.compat.v1 import keras as keras\n",
        "#keras.__version__\n",
        "from tensorflow.compat.v1.keras.preprocessing.image import load_img, img_to_array\n",
        "\n",
        "# ターゲット画像のpath。pathは自分が保存した場所に書き換えてください。\n",
        "target_image_path = 'florida-2nd-alligaotr-attack.jpg'\n",
        "#target_image_path = 'img_5c91efc5fb6408a098e8d622cb49176698275.jpg'\n",
        "# スタイル画像のpath。pathは自分が保存した場所に書き換えてください。\n",
        "style_reference_image_path = 'img_5c91efc5fb6408a098e8d622cb49176698275.jpg'\n",
        "#style_reference_image_path = 'florida-2nd-alligaotr-attack.jpg'\n",
        "\n",
        "# 生成画像サイズ\n",
        "width, height = load_img(target_image_path).size\n",
        "img_height = 400\n",
        "img_width = int(width * img_height / height)"
      ],
      "execution_count": 0,
      "outputs": []
    },
    {
      "cell_type": "code",
      "metadata": {
        "id": "yCweaHR_3VOU",
        "colab_type": "code",
        "colab": {}
      },
      "source": [
        "import numpy as np\n",
        "from tensorflow.compat.v1.keras.applications import vgg19\n",
        "\n",
        "def preprocess_image(image_path):\n",
        "    img = load_img(image_path, target_size=(img_height, img_width))\n",
        "    img = img_to_array(img)\n",
        "    img = np.expand_dims(img, axis=0)\n",
        "    img = vgg19.preprocess_input(img)\n",
        "    return img\n",
        "\n",
        "def deprocess_image(x):\n",
        "    x[:, :, 0] += 103.939\n",
        "    x[:, :, 1] += 116.779\n",
        "    x[:, :, 2] += 123.68\n",
        "    x = x[:, :, ::-1]\n",
        "    x = np.clip(x, 0, 255).astype('uint8')\n",
        "    return x"
      ],
      "execution_count": 0,
      "outputs": []
    },
    {
      "cell_type": "code",
      "metadata": {
        "id": "qGppXP9B3aMn",
        "colab_type": "code",
        "colab": {}
      },
      "source": [
        "#from keras import backend as K\n",
        "\n",
        "target_image = K.backend.constant(preprocess_image(target_image_path))\n",
        "style_reference_image = K.backend.constant(preprocess_image(style_reference_image_path))\n",
        "\n",
        "# 生成画像を保持するプレースホルダー\n",
        "combination_image = K.backend.placeholder((1, img_height, img_width, 3))\n",
        "\n",
        "# ３つの画像を１つのバッチにまとめる\n",
        "input_tensor = K.backend.concatenate([target_image,\n",
        "                              style_reference_image,\n",
        "                              combination_image], axis=0)\n",
        "\n",
        "# ３つの画像からなるバッチを入力として使用するVGG19を構築\n",
        "# このモデルには学習済みのImageNetの重みが読み込まれます\n",
        "model = vgg19.VGG19(input_tensor=input_tensor,\n",
        "                    weights='imagenet',\n",
        "                    include_top=False)\n",
        "print('Model loaded.')"
      ],
      "execution_count": 0,
      "outputs": []
    },
    {
      "cell_type": "code",
      "metadata": {
        "id": "EU-K_Atj3dV3",
        "colab_type": "code",
        "colab": {}
      },
      "source": [
        "#　コンテンツの損失関数\n",
        "def content_loss(base, combination):\n",
        "    return K.backend.sum(K.backend.square(combination - base))\n",
        "\n",
        "#　スタイルの損失関数\n",
        "def gram_matrix(x):\n",
        "    features = K.backend.batch_flatten(K.backend.permute_dimensions(x, (2, 0, 1)))\n",
        "    gram = K.backend.dot(features, K.backend.transpose(features))\n",
        "    return gram\n",
        "\n",
        "def style_loss(style, combination):\n",
        "    S = gram_matrix(style)\n",
        "    C = gram_matrix(combination)\n",
        "    channels = 3\n",
        "    size = img_height * img_width\n",
        "    return K.backend.sum(K.backend.square(S - C)) / (4. * (channels ** 2) * (size ** 2))\n",
        "\n",
        "#　全変動損失関数\n",
        "def total_variation_loss(x):\n",
        "    a = K.backend.square(\n",
        "        x[:, :img_height - 1, :img_width - 1, :] - x[:, 1:, :img_width - 1, :])\n",
        "    b = K.backend.square(\n",
        "        x[:, :img_height - 1, :img_width - 1, :] - x[:, :img_height - 1, 1:, :])\n",
        "    return K.backend.sum(K.backend.pow(a + b, 1.25))"
      ],
      "execution_count": 0,
      "outputs": []
    },
    {
      "cell_type": "code",
      "metadata": {
        "id": "_fXxrSwx8ENK",
        "colab_type": "code",
        "colab": {}
      },
      "source": [
        "outputs_dict = dict([(layer.name, layer.output) for layer in model.layers])\n",
        "content_layer = 'block5_conv2'\n",
        "style_layers = ['block1_conv1',\n",
        "                'block2_conv1',\n",
        "                'block3_conv1',\n",
        "                'block4_conv1',\n",
        "                'block5_conv1']\n",
        "\n",
        "total_variation_weight = 1e-4\n",
        "style_weight = 1.\n",
        "content_weight = 0.025\n",
        "\n",
        "loss = K.backend.variable(0.)\n",
        "layer_features = outputs_dict[content_layer]\n",
        "target_image_features = layer_features[0, :, :, :]\n",
        "combination_features = layer_features[2, :, :, :]\n",
        "loss = loss + content_weight * content_loss(target_image_features, combination_features)\n",
        "for layer_name in style_layers:\n",
        "    layer_features = outputs_dict[layer_name]\n",
        "    style_reference_features = layer_features[1, :, :, :]\n",
        "    combination_features = layer_features[2, :, :, :]\n",
        "    sl = style_loss(style_reference_features, combination_features)\n",
        "    loss += (style_weight / len(style_layers)) * sl\n",
        "loss += total_variation_weight * total_variation_loss(combination_image)"
      ],
      "execution_count": 0,
      "outputs": []
    },
    {
      "cell_type": "code",
      "metadata": {
        "id": "cmoP5P6h8IWK",
        "colab_type": "code",
        "colab": {}
      },
      "source": [
        "grads = K.backend.gradients(loss, combination_image)[0]\n",
        "fetch_loss_and_grads = K.backend.function([combination_image], [loss, grads])\n",
        "\n",
        "class Evaluator(object):\n",
        "\n",
        "    def __init__(self):\n",
        "        self.loss_value = None\n",
        "        self.grads_values = None\n",
        "\n",
        "    def loss(self, x):\n",
        "        assert self.loss_value is None\n",
        "        x = x.reshape((1, img_height, img_width, 3))\n",
        "        outs = fetch_loss_and_grads([x])\n",
        "        loss_value = outs[0]\n",
        "        grad_values = outs[1].flatten().astype('float64')\n",
        "        self.loss_value = loss_value\n",
        "        self.grad_values = grad_values\n",
        "        return self.loss_value\n",
        "\n",
        "    def grads(self, x):\n",
        "        assert self.loss_value is not None\n",
        "        grad_values = np.copy(self.grad_values)\n",
        "        self.loss_value = None\n",
        "        self.grad_values = None\n",
        "        return grad_values\n",
        "\n",
        "evaluator = Evaluator()"
      ],
      "execution_count": 0,
      "outputs": []
    },
    {
      "cell_type": "code",
      "metadata": {
        "id": "UnNqvLMv9hS4",
        "colab_type": "code",
        "colab": {}
      },
      "source": [
        "from scipy.optimize import fmin_l_bfgs_b\n",
        "#from scipy.misc import imsave\n",
        "import imageio\n",
        "import time\n",
        "\n",
        "result_prefix = 'style_transfer_result'\n",
        "iterations = 30\n",
        "\n",
        "# Run scipy-based optimization (L-BFGS) over the pixels of the generated image\n",
        "# so as to minimize the neural style loss.\n",
        "# This is our initial state: the target image.\n",
        "# Note that `scipy.optimize.fmin_l_bfgs_b` can only process flat vectors.\n",
        "x = preprocess_image(target_image_path)\n",
        "x = x.flatten()\n",
        "for i in range(iterations):\n",
        "    print('Start of iteration {0:03d}'.format(i), end=\" \")\n",
        "    start_time = time.time()\n",
        "    x, min_val, info = fmin_l_bfgs_b(evaluator.loss, x,\n",
        "                                     fprime=evaluator.grads, maxfun=20)\n",
        "    print('Current loss value:{0}'.format(min_val), end=\" \")\n",
        "    # Save current generated image\n",
        "    img = x.copy().reshape((img_height, img_width, 3))\n",
        "    img = deprocess_image(img)\n",
        "    fname = result_prefix + '_at_iteration_%d.png' % i\n",
        "    #imsave(fname, img)\n",
        "    imageio.imwrite(fname, img)\n",
        "    end_time = time.time()\n",
        "    print('Image saved as', fname, end=\" \")\n",
        "    print('Iteration %d completed in %ds' % (i, end_time - start_time))"
      ],
      "execution_count": 0,
      "outputs": []
    },
    {
      "cell_type": "code",
      "metadata": {
        "id": "7mI3_xiQMHbB",
        "colab_type": "code",
        "colab": {}
      },
      "source": [
        "from matplotlib import pyplot as plt\n",
        "%matplotlib inline\n",
        "\n",
        "original = load_img(target_image_path, target_size=(img_height, img_width))  # オリジナル\n",
        "style =  load_img(style_reference_image_path, target_size=(img_height, img_width))  # スタイル画像\n",
        "transfered = img  # 変換画像\n",
        "\n",
        "fig, axs = plt.subplots(1, 3, figsize=(24, 10))\n",
        "for ax, img in zip(axs, [original, style, transfered]):\n",
        "    ax.axis(False)\n",
        "    ax.imshow(img)\n",
        "    #ax.grid(True)\n",
        "\n",
        "plt.show()"
      ],
      "execution_count": 0,
      "outputs": []
    },
    {
      "cell_type": "code",
      "metadata": {
        "id": "5-lAFPClMRKg",
        "colab_type": "code",
        "colab": {}
      },
      "source": [
        "result_prefix = 'nst_result'\n",
        "iterations = 30\n",
        "\n",
        "for i in range(iterations):\n",
        "    print('Start of iteration {0:02d}'.format(i), end=\" \")\n",
        "    start_time = time.time()\n",
        "    x, min_val, info = fmin_l_bfgs_b(evaluator.loss, x,\n",
        "                                     fprime=evaluator.grads, maxfun=20)\n",
        "    print('Current loss value:{0:08.3f}'.format(min_val), end=\" \")\n",
        "    # Save current generated image\n",
        "    img = x.copy().reshape((img_height, img_width, 3))\n",
        "    img = deprocess_image(img)\n",
        "    fname = result_prefix + '{0:02d}.png'.format(i)\n",
        "    #imsave(fname, img)\n",
        "    imageio.imwrite(fname, img)\n",
        "    end_time = time.time()\n",
        "    print('Image saved as', fname, end=\" \")\n",
        "    print('Iteration %d completed in %ds' % (i, end_time - start_time))"
      ],
      "execution_count": 0,
      "outputs": []
    },
    {
      "cell_type": "code",
      "metadata": {
        "id": "YLsBFJxu-BVG",
        "colab_type": "code",
        "colab": {}
      },
      "source": [
        "from matplotlib import pyplot as plt\n",
        "\n",
        "# コンテンツ画像\n",
        "plt.figure(figsize=(12,8))\n",
        "plt.imshow(load_img(target_image_path, target_size=(img_height, img_width)))\n",
        "plt.axis(False)\n",
        "plt.figure()\n",
        "\n",
        "# スタイル画像\n",
        "plt.figure(figsize=(12,8))\n",
        "plt.imshow(load_img(style_reference_image_path, target_size=(img_height, img_width)))\n",
        "plt.axis(False)\n",
        "plt.figure()\n",
        "\n",
        "# 生成画像\n",
        "plt.figure(figsize=(12,8))\n",
        "plt.imshow(img)\n",
        "plt.axis(False)\n",
        "plt.show()"
      ],
      "execution_count": 0,
      "outputs": []
    },
    {
      "cell_type": "code",
      "metadata": {
        "id": "ko0KqeGyCmC-",
        "colab_type": "code",
        "colab": {}
      },
      "source": [
        ""
      ],
      "execution_count": 0,
      "outputs": []
    }
  ]
}