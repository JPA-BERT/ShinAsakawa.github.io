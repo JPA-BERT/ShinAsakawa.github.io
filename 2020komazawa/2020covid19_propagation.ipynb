{
  "nbformat": 4,
  "nbformat_minor": 0,
  "metadata": {
    "colab": {
      "name": "Untitled27.ipynb",
      "provenance": [],
      "private_outputs": true,
      "authorship_tag": "ABX9TyOMNg2wi2MH/sD6nrKlgEjL",
      "include_colab_link": true
    },
    "kernelspec": {
      "name": "python3",
      "display_name": "Python 3"
    }
  },
  "cells": [
    {
      "cell_type": "markdown",
      "metadata": {
        "id": "view-in-github",
        "colab_type": "text"
      },
      "source": [
        "<a href=\"https://colab.research.google.com/github/ShinAsakawa/ShinAsakawa.github.io/blob/master/2020komazawa/2020covid19_propagation.ipynb\" target=\"_parent\"><img src=\"https://colab.research.google.com/assets/colab-badge.svg\" alt=\"Open In Colab\"/></a>"
      ]
    },
    {
      "cell_type": "markdown",
      "metadata": {
        "id": "64DxV-Bm2Qxi",
        "colab_type": "text"
      },
      "source": [
        "- Date: 2020-0412\n",
        "- Author: 浅川伸一\n",
        "\n",
        "---\n",
        "\n",
        "# 感染者の増加を計算する\n",
        "\n",
        "- トップユーチューバー ヒカキン氏と小池百合子東京都知事との対談動画で 5 日後に 2.5 人感染した場合 30 日後 406人と予想される根拠について\n",
        "- 直下セルを実行すると YouTube 動画が閲覧できます。10:30 からのパネルの計算根拠を考えます"
      ]
    },
    {
      "cell_type": "code",
      "metadata": {
        "id": "lOnPFdQG1orv",
        "colab_type": "code",
        "colab": {}
      },
      "source": [
        "from IPython.display import YouTubeVideo, display\n",
        "youtube_id = 'ofCsslfc-So'  # ヒカキン ｖｓ 小池百合子\n",
        "display(YouTubeVideo(youtube_id, width=600, height=400))\n",
        "# 10:30 からのパネル\n",
        "# 5 日後に 2.5 人感染した場合 30 日後 406人になる根拠は何か"
      ],
      "execution_count": 0,
      "outputs": []
    },
    {
      "cell_type": "code",
      "metadata": {
        "id": "V_WvOa4G10W3",
        "colab_type": "code",
        "colab": {}
      },
      "source": [
        "sum = 1  # 最初の日に 1 人感染している\n",
        "period = int(30 / 5)  # 5 日の期間で 30 日後なので 6 期間\n",
        "kappa = 2.5  # 感染率，あるいは感染力\n",
        "#kappa = 1.25  # 半分の感染力にした場合\n",
        "#kappa = 0.625  # 1/4 の感染力にした場合\n",
        "for p in range(period):\n",
        "    sum = sum + kappa ** (p+1) \n",
        "\n",
        "print(sum)"
      ],
      "execution_count": 0,
      "outputs": []
    }
  ]
}