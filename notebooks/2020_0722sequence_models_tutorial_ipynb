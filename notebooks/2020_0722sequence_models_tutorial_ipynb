{
  "nbformat": 4,
  "nbformat_minor": 0,
  "metadata": {
    "kernelspec": {
      "display_name": "Python 3",
      "language": "python",
      "name": "python3"
    },
    "language_info": {
      "codemirror_mode": {
        "name": "ipython",
        "version": 3
      },
      "file_extension": ".py",
      "mimetype": "text/x-python",
      "name": "python",
      "nbconvert_exporter": "python",
      "pygments_lexer": "ipython3",
      "version": "3.6.8"
    },
    "colab": {
      "name": "2020-0722sequence_models_tutorial.ipynb のコピー",
      "provenance": [],
      "collapsed_sections": [],
      "include_colab_link": true
    }
  },
  "cells": [
    {
      "cell_type": "markdown",
      "metadata": {
        "id": "view-in-github",
        "colab_type": "text"
      },
      "source": [
        "<a href=\"https://colab.research.google.com/github/JPA-BERT/ShinAsakawa.github.io/blob/master/notebooks/2020_0722sequence_models_tutorial_ipynb\" target=\"_parent\"><img src=\"https://colab.research.google.com/assets/colab-badge.svg\" alt=\"Open In Colab\"/></a>"
      ]
    },
    {
      "cell_type": "markdown",
      "metadata": {
        "id": "SvALmbqFt9ve",
        "colab_type": "text"
      },
      "source": [
        "# PyTorch tutorial の内容について(4)\n",
        "\n",
        "- date: 2020-0722\n",
        "- author: 浅川伸一\n",
        "\n",
        "[https://github.com/pytorch/tutorials/tree/master/beginner_source/nlp](https://github.com/pytorch/tutorials/tree/master/beginner_source/nlp) を見ると\n",
        "PyTorch で 自然言語処理を行う場合のチュートリアルは以下とおりである\n",
        "\n",
        "# Deep Learning for NLP with Pytorch\n",
        "\n",
        "1. [pytorch_tutorial.py](https://github.com/pytorch/tutorials/blob/master/beginner_source/nlp/pytorch_tutorial.py): \n",
        "\t[PyTorch 入門 Introduction to PyTorch](https://pytorch.org/tutorials/beginner/nlp/pytorch_tutorial.html)\n",
        "\n",
        "2. [deep_learning_tutorial.py](https://github.com/pytorch/tutorials/blob/master/beginner_source/nlp/deep_learning_tutorial.py): \n",
        "\t[PyTorch による深層学習 Deep Learning with PyTorch](https://pytorch.org/tutorials/beginner/nlp/deep_learning_tutorial.html)\n",
        "\n",
        "3. [word_embeddings_tutorial.py](https://github.com/pytorch/tutorials/blob/master/beginner_source/nlp/word_embeddings_tutorial.py): \n",
        "\t[単語埋め込み:語彙的意味の符号化 Word Embeddings: Encoding Lexical Semantics](https://pytorch.org/tutorials/beginner/nlp/word_embeddings_tutorial.html)\n",
        "\n",
        "4. [sequence_models_tutorial.py]((https://github.com/pytorch/tutorials/blob/master/beginner_source/nlp/sequence_models_tutorial.py): \n",
        "\t[系列モデルと LSTM Sequence Models and Long-Short Term Memory Networks](https://pytorch.org/tutorials/beginner/nlp/sequence_models_tutorial.html)\n",
        "\n",
        "5. [advanced_tutorial.py]((https://github.com/pytorch/tutorials/blob/master/beginner_source/nlp/advanced_tutorial.py): \n",
        "\t[動的意思決定と双方向 LSTM 条件付き確率場 Advanced: Making Dynamic Decisions and the Bi-LSTM CRF](https://pytorch.org/tutorials/beginner/nlp/advanced_tutorial.html)\n",
        "\n",
        "\n",
        "以下では，このうちの 4 について解説している。\n"
      ]
    },
    {
      "cell_type": "code",
      "metadata": {
        "id": "lv1QhnnIsUxF",
        "colab_type": "code",
        "colab": {}
      },
      "source": [
        "%matplotlib inline"
      ],
      "execution_count": null,
      "outputs": []
    },
    {
      "cell_type": "markdown",
      "metadata": {
        "id": "KhHudAjMsUxK",
        "colab_type": "text"
      },
      "source": [
        "# 系列モデルと LSTM ネットワーク\n",
        "ここまで，様々なフィードフォワードネットワークを見てきました。\n",
        "フィードフォワードニューラルネットワークは，ネットワークが保持する(内部) 状態がありません。\n",
        "フィードフォワードモデルは，系列処理に向いているモデルではないと言えます。\n",
        "一方，系列モデルは 自然言語処理 (NLP) の中核をなすモデルです。\n",
        "系列モデルとは，入力情報間に時間的依存関係を仮定したモデルです。\n",
        "系列モデルの古典的な例としては，品詞タグ付けのための ``隠れマルコフモデル`` があります。\n",
        "他の例としては ``条件付き確率場`` があります。\n",
        "\n",
        "\n",
        "<!--\n",
        "# Sequence Models and Long-Short Term Memory Networks\n",
        "\n",
        "At this point, we have seen various feed-forward networks. \n",
        "That is, there is no state maintained by the network at all. \n",
        "This might not be the behavior we want. \n",
        "Sequence models are central to NLP: they are models where there is some sort of dependence through time between your inputs. \n",
        "The classical example of a sequence model is the Hidden Markov Model for part-of-speech tagging. \n",
        "Another example is the conditional random field.\n",
        "-->\n",
        "\n",
        "リカレント・ニューラルネットワークは，状態を保持することができるネットワークです。\n",
        "例えば，ネットワークの出力は次の入力の一部として使用されます。\n",
        "リカレントニューラルネットワークは，全系列を通して情報が伝播するようにすることもできます。\n",
        "LSTM の場合 系列の各要素に対して，対応する *隠れ状態* $h_t$ があり，原則として，系列の任意の時点の情報を蓄えておくことができます。\n",
        "隠れ状態を利用して，言語モデルの単語や品詞タグ付，その他の多くの予測することが可能です。\n",
        "\n",
        "<!--\n",
        "A recurrent neural network is a network that maintains some kind of state. \n",
        "For example, its output could be used as part of the next input, so that information can propogate along as the network passes over the sequence. In the case of an LSTM, for each element in the sequence, there is a corresponding *hidden state* $h_t$, which in principle can contain information from arbitrary points earlier in the sequence. \n",
        "We can use the hidden state to predict words in a language model, part-of-speech tags, and a myriad of other things.\n",
        "-->\n",
        "\n",
        "### PyTorch における LSTM\n",
        "\n",
        "例題に入る前に いくつかのことに注意してください。\n",
        "Pytorch の LSTM は、すべての入力が 3 次元テンソルであることを仮定しています。\n",
        "この入力テンソルの軸の意味は重要です。\n",
        "第 1 軸(次元)は系列そのものです。\n",
        "第 2 軸(次元) はミニバッチ内の実体，\n",
        "第 3 軸(次元) の軸は入力の要素を表します。\n",
        "ミニバッチについてはここでは議論していません。\n",
        "ですので ミニバッチは無視して，第 2 軸には常に 1つの次元があると仮定しましょう。\n",
        "``牛が飛び跳ねた The cow jumped`` という文に対して系列モデルを実行したい場合，\n",
        "入力は以下のようになります:\n",
        "\n",
        "\\begin{align}\\begin{bmatrix}\n",
        "   \\overbrace{q_\\text{The}}^\\text{行ベクトル} \\\\\n",
        "   q_\\text{cow} \\\\\n",
        "   q_\\text{jumped}\n",
        "   \\end{bmatrix}\n",
        "\\end{align}\n",
        "\n",
        "サイズ 1 の追加した第 2 次元があることを忘れないでください。\n",
        "\n",
        "さらに 系列を一度に 1 つずつ進めることもできます。ですが その場合 第1軸 もサイズが 1 になります。\n",
        "\n",
        "簡単な例を見てみましょう。\n",
        "\n",
        "<!--\n",
        "### LSTM's in Pytorch\n",
        "\n",
        "Before getting to the example, note a few things. Pytorch's LSTM expects all of its inputs to be 3D tensors. The semantics of the axes of these tensors is important. The first axis is the sequence itself, the second indexes instances in the mini-batch, and the third indexes elements of the input. \n",
        "We haven't discussed mini-batching, so lets just ignore that and assume we will always have just 1 dimension on the second axis. \n",
        "If we want to run the sequence model over the sentence \"The cow jumped\", our input should look like\n",
        "\n",
        "\\begin{align}\\begin{bmatrix}\n",
        "   \\overbrace{q_\\text{The}}^\\text{row vector} \\\\\n",
        "   q_\\text{cow} \\\\\n",
        "   q_\\text{jumped}\n",
        "   \\end{bmatrix}\\end{align}\n",
        "\n",
        "Except remember there is an additional 2nd dimension with size 1.\n",
        "\n",
        "In addition, you could go through the sequence one at a time, in which case the 1st axis will have size 1 also.\n",
        "\n",
        "Let's see a quick example.\n",
        "-->\n"
      ]
    },
    {
      "cell_type": "code",
      "metadata": {
        "id": "e-g14y36sUxL",
        "colab_type": "code",
        "colab": {
          "base_uri": "https://localhost:8080/",
          "height": 34
        },
        "outputId": "7976e0de-ae61-4d10-c412-78bdaf39694b"
      },
      "source": [
        "# Author: Robert Guthrie\n",
        "\n",
        "import torch\n",
        "import torch.nn as nn\n",
        "import torch.nn.functional as F\n",
        "import torch.optim as optim\n",
        "\n",
        "torch.manual_seed(1)"
      ],
      "execution_count": null,
      "outputs": [
        {
          "output_type": "execute_result",
          "data": {
            "text/plain": [
              "<torch._C.Generator at 0x7fc28f8350c0>"
            ]
          },
          "metadata": {
            "tags": []
          },
          "execution_count": 4
        }
      ]
    },
    {
      "cell_type": "code",
      "metadata": {
        "id": "Lb-8lMIwsUxO",
        "colab_type": "code",
        "colab": {
          "base_uri": "https://localhost:8080/",
          "height": 187
        },
        "outputId": "7a38dccb-65dd-4a77-d43d-ab48c94b4ba9"
      },
      "source": [
        "lstm = nn.LSTM(3, 3)  # 入力次元は 3 出力次元も 3 です\n",
        "inputs = [torch.randn(1, 3) for _ in range(5)]  # 長さ 5 の系列を作成\n",
        "\n",
        "# 隠れ状態の初期化\n",
        "hidden = (torch.randn(1, 1, 3),\n",
        "          torch.randn(1, 1, 3))\n",
        "for i in inputs:\n",
        "    # 全系列を通じて，一度に一つづづ，逐次，Step through the sequence one element at a time.\n",
        "    # 1ステップ後，中間層は，中間層の状態と入力情報とが入力となる # after each step, hidden contains the hidden state.\n",
        "    out, hidden = lstm(i.view(1, 1, -1), hidden)\n",
        "\n",
        "\n",
        "# 代わりに 系列全体を一度に実行することもできます。\n",
        "# LSTM が返す最初の値は  系列全体の 隠れ状態のすべてです。\n",
        "# 2 番目の値は 最新の隠れ状態です\n",
        "#（\"out \"と \"hidden \"の最後のスライスを比較してみてください。\n",
        "# その理由は次のようになります:\n",
        "# \"out \"は 系列内の全隠れ状態にアクセスできるようにします。\n",
        "#  \"hidden\" は 系列を継続して誤差逆伝播することを可能にします。\n",
        "# 後で LSTM に引数として渡すことで 2 次元を追加します。\n",
        "# alternatively, we can do the entire sequence all at once.\n",
        "# the first value returned by LSTM is all of the hidden states throughout\n",
        "# the sequence. the second is just the most recent hidden state\n",
        "# (compare the last slice of \"out\" with \"hidden\" below, they are the same)\n",
        "# The reason for this is that:\n",
        "# \"out\" will give you access to all hidden states in the sequence\n",
        "# \"hidden\" will allow you to continue the sequence and backpropagate,\n",
        "# by passing it as an argument  to the lstm at a later time\n",
        "# Add the extra 2nd dimension\n",
        "inputs = torch.cat(inputs).view(len(inputs), 1, -1)\n",
        "hidden = (torch.randn(1, 1, 3), torch.randn(1, 1, 3))  # clean out hidden state\n",
        "out, hidden = lstm(inputs, hidden)\n",
        "print(out)\n",
        "print(hidden)"
      ],
      "execution_count": null,
      "outputs": [
        {
          "output_type": "stream",
          "text": [
            "tensor([[[-0.0187,  0.1713, -0.2944]],\n",
            "\n",
            "        [[-0.3521,  0.1026, -0.2971]],\n",
            "\n",
            "        [[-0.3191,  0.0781, -0.1957]],\n",
            "\n",
            "        [[-0.1634,  0.0941, -0.1637]],\n",
            "\n",
            "        [[-0.3368,  0.0959, -0.0538]]], grad_fn=<StackBackward>)\n",
            "(tensor([[[-0.3368,  0.0959, -0.0538]]], grad_fn=<StackBackward>), tensor([[[-0.9825,  0.4715, -0.0633]]], grad_fn=<StackBackward>))\n"
          ],
          "name": "stdout"
        }
      ]
    },
    {
      "cell_type": "markdown",
      "metadata": {
        "id": "uWoP8dACsUxS",
        "colab_type": "text"
      },
      "source": [
        "### 例: 品詞タグ付け LSTM\n",
        "<!--\n",
        "### Example: An LSTM for Part-of-Speech Tagging\n",
        "-->\n",
        "\n",
        "<!--\n",
        "In this section, we will use an LSTM to get part of speech tags. \n",
        "We will not use Viterbi or Forward-Backward or anything like that, but as a (challenging) exercise to the reader, think about how Viterbi could be used after you have seen what is going on.\n",
        "-->\n",
        "\n",
        "ここでは LSTM を使って品詞タグ付けを行います。\n",
        "ビタビ (アルゴリズム) や 前向き-後ろ向き (アルゴリズム) などは使いません。\n",
        "ですが，読者への (挑戦的な) 練習問題として，説明を読んだ後で，どうすれば ビタビ アルゴリズムが使えるかを考えてみてください。\n",
        "\n",
        "<!--\n",
        "The model is as follows: let our input sentence be $w_1, \\dots, w_M$, where $w_i \\in V$, our vocab. Also, let $T$ be our tag set, and $y_i$ the tag of word $w_i$.\n",
        "Denote our prediction of the tag of word $w_i$ by $\\hat{y}_i$.\n",
        "-->\n",
        "\n",
        "モデルは以下のとおりです:\n",
        "入力系列を語彙の系列 $w_1, \\ldots, w_M$ とします。\n",
        "また $T$ をタグ集合，$y_i$ を単語 $w_i$ に対応するタグとします。\n",
        "単語 $w_i$ の品詞の予測値は $\\hat{y}_i$ とします。\n",
        "\n",
        "これは，予測モデルであり出力は $\\hat{y}_1,\\ldots,\\hat{y}_M$ とします。ここで $\\hat{y}_i \\in T$ とします。\n",
        "\n",
        "<!--This is a structure prediction, model, where our output is a sequence $\\hat{y}_1, \\dots, \\hat{y}_M$, where $\\hat{y}_i \\in T$.-->\n",
        "\n",
        "予測を行う際には 文の上を LSTM を入力します。\n",
        "時刻 $i$ での中間層状態を$h_i$ とします。\n",
        "また それぞれのタグに一意なインデックスを割り当てる(単語の埋め込みの項で word_to\\_ixとしたように)。\n",
        "すると $hat{y}_i$ の予測は以下のようになります:\n",
        "\n",
        "<!--\n",
        "To do the prediction, pass an LSTM over the sentence. Denote the hidden state at timestep $i$ as $h_i$. Also, assign each tag a unique index (like how we had word\\_to\\_ix in the word embeddings section). Then our prediction rule for $\\hat{y}_i$ is\n",
        "-->\n",
        "\n",
        "\\begin{align}\\hat{y}_i = \\text{argmax}_j \\  (\\log \\text{Softmax}(Ah_i + b))_j\\end{align}\n",
        "\n",
        "<!--\n",
        "That is, take the log softmax of the affine map of the hidden state, and the predicted tag is the tag that has the maximum value in this vector. \n",
        "Note this implies immediately that the dimensionality of the target space of $A$ is $|T|$.\n",
        "-->\n",
        "\n",
        "すなわち，中間層状態のアフィン写像の 対数ソフトマックスから，このベクトル中の最大値を持つタグを予測タグとします。\n",
        "このことは $A$ のターゲット空間の次元が $|T|$ であることを暗示していることに注意してください。\n",
        "\n",
        "データの準備:\n",
        "<!--Prepare data:-->\n",
        "\n"
      ]
    },
    {
      "cell_type": "code",
      "metadata": {
        "id": "TkYh6RIUsUxS",
        "colab_type": "code",
        "colab": {}
      },
      "source": [
        "def prepare_sequence(seq, to_ix):\n",
        "    idxs = [to_ix[w] for w in seq]\n",
        "    return torch.tensor(idxs, dtype=torch.long)\n",
        "\n",
        "\n",
        "training_data = [\n",
        "    (\"The dog ate the apple\".split(), [\"DET\", \"NN\", \"V\", \"DET\", \"NN\"]),\n",
        "    (\"Everybody read that book\".split(), [\"NN\", \"V\", \"DET\", \"NN\"])\n",
        "]\n",
        "word_to_ix = {}\n",
        "for sent, tags in training_data:\n",
        "    for word in sent:\n",
        "        if word not in word_to_ix:\n",
        "            word_to_ix[word] = len(word_to_ix)\n",
        "print(word_to_ix)\n",
        "tag_to_ix = {\"DET\": 0, \"NN\": 1, \"V\": 2}\n",
        "\n",
        "# These will usually be more like 32 or 64 dimensional.\n",
        "# We will keep them small, so we can see how the weights change as we train.\n",
        "EMBEDDING_DIM = 6\n",
        "HIDDEN_DIM = 6"
      ],
      "execution_count": null,
      "outputs": []
    },
    {
      "cell_type": "markdown",
      "metadata": {
        "id": "X7xvn6ClsUxW",
        "colab_type": "text"
      },
      "source": [
        "<!--Create the model:-->\n",
        "モデルの作成:\n",
        "\n"
      ]
    },
    {
      "cell_type": "code",
      "metadata": {
        "id": "wfr21pKAsUxW",
        "colab_type": "code",
        "colab": {}
      },
      "source": [
        "class LSTMTagger(nn.Module):\n",
        "\n",
        "    def __init__(self, embedding_dim, hidden_dim, vocab_size, tagset_size):\n",
        "        super(LSTMTagger, self).__init__()\n",
        "        self.hidden_dim = hidden_dim\n",
        "\n",
        "        self.word_embeddings = nn.Embedding(vocab_size, embedding_dim)\n",
        "\n",
        "        # The LSTM takes word embeddings as inputs, and outputs hidden states\n",
        "        # with dimensionality hidden_dim.\n",
        "        self.lstm = nn.LSTM(embedding_dim, hidden_dim)\n",
        "\n",
        "        # The linear layer that maps from hidden state space to tag space\n",
        "        self.hidden2tag = nn.Linear(hidden_dim, tagset_size)\n",
        "\n",
        "    def forward(self, sentence):\n",
        "        embeds = self.word_embeddings(sentence)\n",
        "        lstm_out, _ = self.lstm(embeds.view(len(sentence), 1, -1))\n",
        "        tag_space = self.hidden2tag(lstm_out.view(len(sentence), -1))\n",
        "        tag_scores = F.log_softmax(tag_space, dim=1)\n",
        "        return tag_scores"
      ],
      "execution_count": null,
      "outputs": []
    },
    {
      "cell_type": "markdown",
      "metadata": {
        "id": "N2Xpy1S1sUxa",
        "colab_type": "text"
      },
      "source": [
        "Train the model:\n",
        "\n"
      ]
    },
    {
      "cell_type": "code",
      "metadata": {
        "id": "EHkHB2eBsUxb",
        "colab_type": "code",
        "colab": {}
      },
      "source": [
        "model = LSTMTagger(EMBEDDING_DIM, HIDDEN_DIM, len(word_to_ix), len(tag_to_ix))\n",
        "loss_function = nn.NLLLoss()\n",
        "optimizer = optim.SGD(model.parameters(), lr=0.1)\n",
        "\n",
        "# See what the scores are before training\n",
        "# Note that element i,j of the output is the score for tag j for word i.\n",
        "# Here we don't need to train, so the code is wrapped in torch.no_grad()\n",
        "with torch.no_grad():\n",
        "    inputs = prepare_sequence(training_data[0][0], word_to_ix)\n",
        "    tag_scores = model(inputs)\n",
        "    print(tag_scores)\n",
        "\n",
        "for epoch in range(300):  # again, normally you would NOT do 300 epochs, it is toy data\n",
        "    for sentence, tags in training_data:\n",
        "        # Step 1. Remember that Pytorch accumulates gradients.\n",
        "        # We need to clear them out before each instance\n",
        "        model.zero_grad()\n",
        "\n",
        "        # Step 2. Get our inputs ready for the network, that is, turn them into\n",
        "        # Tensors of word indices.\n",
        "        sentence_in = prepare_sequence(sentence, word_to_ix)\n",
        "        targets = prepare_sequence(tags, tag_to_ix)\n",
        "\n",
        "        # Step 3. Run our forward pass.\n",
        "        tag_scores = model(sentence_in)\n",
        "\n",
        "        # Step 4. Compute the loss, gradients, and update the parameters by\n",
        "        #  calling optimizer.step()\n",
        "        loss = loss_function(tag_scores, targets)\n",
        "        loss.backward()\n",
        "        optimizer.step()\n",
        "\n",
        "# See what the scores are after training\n",
        "with torch.no_grad():\n",
        "    inputs = prepare_sequence(training_data[0][0], word_to_ix)\n",
        "    tag_scores = model(inputs)\n",
        "\n",
        "    # The sentence is \"the dog ate the apple\".  i,j corresponds to score for tag j\n",
        "    # for word i. The predicted tag is the maximum scoring tag.\n",
        "    # Here, we can see the predicted sequence below is 0 1 2 0 1\n",
        "    # since 0 is index of the maximum value of row 1,\n",
        "    # 1 is the index of maximum value of row 2, etc.\n",
        "    # Which is DET NOUN VERB DET NOUN, the correct sequence!\n",
        "    print(tag_scores)"
      ],
      "execution_count": null,
      "outputs": []
    },
    {
      "cell_type": "markdown",
      "metadata": {
        "id": "0KEQPfeDsUxe",
        "colab_type": "text"
      },
      "source": [
        "### Exercise: Augmenting the LSTM part-of-speech tagger with character-level features\n",
        "\n",
        "In the example above, each word had an embedding, which served as the inputs to our sequence model. Let's augment the word embeddings with a representation derived from the characters of the word. \n",
        "We expect that this should help significantly, since character-level information like affixes have a large bearing on part-of-speech. \n",
        "For example, words with the affix *-ly* are almost always tagged as adverbs in English.\n",
        "\n",
        "To do this, let $c_w$ be the character-level representation of word $w$. \n",
        "Let $x_w$ be the word embedding as before. \n",
        "Then the input to our sequence model is the concatenation of $x_w$ and $c_w$. \n",
        "So if $x_w$ has dimension 5, and $c_w$ dimension 3, then our LSTM should accept an input of dimension 8.\n",
        "\n",
        "To get the character level representation, do an LSTM over the characters of a word, and let $c_w$ be the final hidden state of this LSTM. Hints:\n",
        "\n",
        "* There are going to be two LSTM's in your new model.\n",
        "  The original one that outputs POS tag scores, and the new one that\n",
        "  outputs a character-level representation of each word.\n",
        "* To do a sequence model over characters, you will have to embed characters.\n",
        "  The character embeddings will be the input to the character LSTM.\n",
        "\n"
      ]
    },
    {
      "cell_type": "code",
      "metadata": {
        "id": "fh2GRG4StLbf",
        "colab_type": "code",
        "colab": {}
      },
      "source": [
        ""
      ],
      "execution_count": null,
      "outputs": []
    }
  ]
}